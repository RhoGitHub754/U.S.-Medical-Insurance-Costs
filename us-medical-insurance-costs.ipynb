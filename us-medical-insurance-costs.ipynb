{
 "cells": [
  {
   "source": [
    "# U.S. Medical Insurance Costs"
   ],
   "cell_type": "markdown",
   "metadata": {}
  },
  {
   "source": [
    "## Look over your dataset\n",
    "Open insurance.cvs and take a look at the file. Take note of how information is organized. How will this affect how you analyze the data in Python? Is there anything of particular interest to you in the dataset that you want to investigate? Think about these things before you jump into Python."
   ],
   "cell_type": "markdown",
   "metadata": {}
  },
  {
   "cell_type": "code",
   "execution_count": 10,
   "metadata": {},
   "outputs": [
    {
     "output_type": "stream",
     "name": "stdout",
     "text": [
      "Look over your dataset\ninsurace.csv - line 1 age,sex,bmi,children,smoker,region,charges\n\ninsurace.csv - line 2 19,female,27.9,0,yes,southwest,16884.924\n\ninsurace.csv - line 3 18,male,33.77,1,no,southeast,1725.5523\n\ninsurance.csv dictionary\n1 {'age': '19', 'sex': 'female', 'bmi': '27.9', 'children': '0', 'smoker': 'yes', 'region': 'southwest', 'charges': '16884.924'}\n2 {'age': '18', 'sex': 'male', 'bmi': '33.77', 'children': '1', 'smoker': 'no', 'region': 'southeast', 'charges': '1725.5523'}\n3 {'age': '28', 'sex': 'male', 'bmi': '33', 'children': '3', 'smoker': 'no', 'region': 'southeast', 'charges': '4449.462'}\n4 {'age': '33', 'sex': 'male', 'bmi': '22.705', 'children': '0', 'smoker': 'no', 'region': 'northwest', 'charges': '21984.47061'}\n5 {'age': '32', 'sex': 'male', 'bmi': '28.88', 'children': '0', 'smoker': 'no', 'region': 'northwest', 'charges': '3866.8552'}\n6 {'age': '31', 'sex': 'female', 'bmi': '25.74', 'children': '0', 'smoker': 'no', 'region': 'southeast', 'charges': '3756.6216'}\n7 {'age': '46', 'sex': 'female', 'bmi': '33.44', 'children': '1', 'smoker': 'no', 'region': 'southeast', 'charges': '8240.5896'}\n8 {'age': '37', 'sex': 'female', 'bmi': '27.74', 'children': '3', 'smoker': 'no', 'region': 'northwest', 'charges': '7281.5056'}\n9 {'age': '37', 'sex': 'male', 'bmi': '29.83', 'children': '2', 'smoker': 'no', 'region': 'northeast', 'charges': '6406.4107'}\n10 {'age': '60', 'sex': 'female', 'bmi': '25.84', 'children': '0', 'smoker': 'no', 'region': 'northwest', 'charges': '28923.13692'}\nage list with the first 10 entries\n[19, 18, 28, 33, 32, 31, 46, 37, 37, 60]\nThe majority of patients are from the southwest area\nThe average insurance cost for smokers is £32050.23 and for non smokers is £8440.66 \nThe average insurance cost for smokers is £32050.23 and for non smokers is £8440.66 \nThe average age of a patient with at least one child is 41\nThe average age of a patient with at least one child is 41\nThe majority of patients are from the southwest area\ndict_items([('Avg Age', [39.20702541106129]), ('Patients from', ['southwest']), ('Smokers', [32050.23183153285]), ('Non-Smokers', [8440.660306508935]), ('Avg Age with child', [40.958333333333336])])\n"
     ]
    }
   ],
   "source": [
    "with open('insurance.csv') as f:\n",
    "  print('Look over your dataset')\n",
    "  print('insurace.csv - line 1 ' + f.readline())\n",
    "  print('insurace.csv - line 2 ' + f.readline())\n",
    "  print('insurace.csv - line 3 ' + f.readline())\n",
    "\n",
    "\n",
    "import csv\n",
    "count = 0\n",
    "print('insurance.csv dictionary')\n",
    "with open('insurance.csv') as f:\n",
    "    reader = csv.DictReader(f)\n",
    "    for row in reader:\n",
    "        print(count + 1, row)\n",
    "        count += 1\n",
    "        if count >= 10:\n",
    "           break\n",
    "\n",
    "age = []\n",
    "sex = []\n",
    "children = []\n",
    "smoker = []\n",
    "region = []\n",
    "charges = []\n",
    "\n",
    "count = 0\n",
    "\n",
    "print('age list with the first 10 entries')\n",
    "\n",
    "with open('insurance.csv') as f:\n",
    "    reader = csv.DictReader(f)\n",
    "    for row in reader:\n",
    "        age.append(int(row['age']))\n",
    "        sex.append(str(row['sex']))\n",
    "        children.append(int(row['children']))\n",
    "        smoker.append(str(row['smoker']))\n",
    "        region.append(str(row['region']))\n",
    "        charges.append(float(row['charges']))\n",
    "\n",
    "    print(age[:10])\n",
    "\n",
    "def avg_age(list):\n",
    "  avg = sum(age) / len(age)\n",
    "  return avg\n",
    "  print('The average age of the patients is {}' .format(round(avg, 2)))\n",
    "\n",
    "avg_age(age)\n",
    "\n",
    "def max_region(region):\n",
    "  r_dict = {\n",
    "  'southwest' : 0,\n",
    "  'southeast' : 0,\n",
    "  'northwest' : 0,\n",
    "  'northeast' : 0\n",
    "  }\n",
    "  \n",
    "  for r in region:\n",
    "    if r == 'southwest':\n",
    "      r_dict['southwest'] += 1\n",
    "    elif r == 'southeast':\n",
    "      r_dict['southeast'] += 1\n",
    "    elif r == 'northeast':\n",
    "      r_dict['northeast'] += 1\n",
    "    else:\n",
    "      r_dict['northwest'] += 1\n",
    "    \n",
    "  print('The majority of patients are from the {} area'.format(max(r_dict)))\n",
    "  return max(r_dict)\n",
    "max_region(region)\n",
    "\n",
    "def smokers_costs(lis1, list2):\n",
    "  smokers_dict = {k:v for k, v in zip(charges, smoker)}\n",
    "\n",
    "  smoker_list = []\n",
    "  non_smokers_list = []\n",
    "\n",
    "  for k,v in smokers_dict.items():\n",
    "    if v == 'yes':\n",
    "      smoker_list.append(k)\n",
    "    else:\n",
    "      non_smokers_list.append(k)\n",
    "  avg_smokers = sum(smoker_list) / len(smoker_list)\n",
    "  avg_non_smokers = sum(non_smokers_list) / len(non_smokers_list)\n",
    "\n",
    "  # print(sum(smoker_list) / len(smoker_list))\n",
    "\n",
    "  # print(sum(non_smokers_list) / len(non_smokers_list))\n",
    "\n",
    "  print('The average insurance cost for smokers is £{} and for non smokers is £{} '.format(round(float(avg_smokers), 2), round(float(avg_non_smokers), 2)))\n",
    "  return avg_smokers, avg_non_smokers\n",
    "\n",
    "smokers_costs(charges, smoker)\n",
    "\n",
    "avg_smokers, avg_non_smokers = smokers_costs(charges, smoker)\n",
    "\n",
    "def avg_age_with_child(list1, list2):\n",
    "\n",
    "  age_child_dict = {k:v for k, v in zip(age, children)}\n",
    "\n",
    "  one_child = []\n",
    "\n",
    "  for k, v in age_child_dict.items():\n",
    "    if v >= 1:\n",
    "      one_child.append(k)\n",
    "      avg_age = sum(one_child) / len(one_child)\n",
    "  print('The average age of a patient with at least one child is {}'.format(round(avg_age),2))\n",
    "  return avg_age\n",
    "\n",
    "avg_age_with_child(age, children)\n",
    "\n",
    "avg_age_one_child = avg_age_with_child(age, children)\n",
    "\n",
    "def all_in_one_dict():\n",
    "  dict = {'Avg Age':[], 'Patients from': [], 'Smokers': [], 'Non-Smokers': [], 'Avg Age with child': []}\n",
    "\n",
    "  dict['Avg Age'].append(avg_age(age))\n",
    "  dict['Patients from'].append(max_region(region))\n",
    "  dict['Smokers'].append(avg_smokers)\n",
    "  dict['Non-Smokers'].append(avg_non_smokers)\n",
    "  dict['Avg Age with child'].append(avg_age_one_child)\n",
    "  print(dict.items())\n",
    "\n",
    "all_in_one_dict()\n"
   ]
  },
  {
   "source": [
    "From the output I can see that the data contains a table with the headings age,sex,bmi,children,smoker,region,charges and customers information that falls into these categories.\n",
    "\n",
    "The headings have the data types of:\n",
    "age: int\n",
    "sex: str\n",
    "bmi: float\n",
    "children: int\n",
    "smoker: int\n",
    "region: str\n",
    "charges: float"
   ],
   "cell_type": "markdown",
   "metadata": {}
  },
  {
   "source": [
    "## Import your dataset\n",
    "Import insurance.cvs into your Python file. Make sure that the information is easy to access."
   ],
   "cell_type": "markdown",
   "metadata": {}
  },
  {
   "cell_type": "code",
   "execution_count": 16,
   "metadata": {},
   "outputs": [
    {
     "output_type": "stream",
     "name": "stdout",
     "text": [
      "insurance.csv dictionary\n0 {'age': '19', 'sex': 'female', 'bmi': '27.9', 'children': '0', 'smoker': 'yes', 'region': 'southwest', 'charges': '16884.924'}\n1 {'age': '18', 'sex': 'male', 'bmi': '33.77', 'children': '1', 'smoker': 'no', 'region': 'southeast', 'charges': '1725.5523'}\n2 {'age': '28', 'sex': 'male', 'bmi': '33', 'children': '3', 'smoker': 'no', 'region': 'southeast', 'charges': '4449.462'}\n3 {'age': '33', 'sex': 'male', 'bmi': '22.705', 'children': '0', 'smoker': 'no', 'region': 'northwest', 'charges': '21984.47061'}\n4 {'age': '32', 'sex': 'male', 'bmi': '28.88', 'children': '0', 'smoker': 'no', 'region': 'northwest', 'charges': '3866.8552'}\n5 {'age': '31', 'sex': 'female', 'bmi': '25.74', 'children': '0', 'smoker': 'no', 'region': 'southeast', 'charges': '3756.6216'}\n6 {'age': '46', 'sex': 'female', 'bmi': '33.44', 'children': '1', 'smoker': 'no', 'region': 'southeast', 'charges': '8240.5896'}\n7 {'age': '37', 'sex': 'female', 'bmi': '27.74', 'children': '3', 'smoker': 'no', 'region': 'northwest', 'charges': '7281.5056'}\n8 {'age': '37', 'sex': 'male', 'bmi': '29.83', 'children': '2', 'smoker': 'no', 'region': 'northeast', 'charges': '6406.4107'}\n9 {'age': '60', 'sex': 'female', 'bmi': '25.84', 'children': '0', 'smoker': 'no', 'region': 'northwest', 'charges': '28923.13692'}\n"
     ]
    }
   ],
   "source": [
    "import csv\n",
    "count = 0\n",
    "print('insurance.csv dictionary')\n",
    "with open('insurance.csv') as f:\n",
    "    reader = csv.DictReader(f)\n",
    "    for row in reader:\n",
    "        print(count, row)\n",
    "        count += 1\n",
    "        if count >= 10:\n",
    "           break"
   ]
  },
  {
   "source": [
    "## Scoping Your Project\n",
    "\n",
    "For this project I will be looking at:\n",
    "\n",
    "1) Average age of the patients in the dataset\n",
    "2) Where the majority of the patients are from\n",
    "3) Costs for smokers vs. non-smokers\n",
    "5) Average age for someone who has at least one child\n"
   ],
   "cell_type": "markdown",
   "metadata": {}
  },
  {
   "source": [
    "## Save your dataset via Python variables\n",
    "\n",
    "I will use lists to store information for all these questions."
   ],
   "cell_type": "markdown",
   "metadata": {}
  },
  {
   "cell_type": "code",
   "execution_count": 18,
   "metadata": {},
   "outputs": [
    {
     "output_type": "stream",
     "name": "stdout",
     "text": [
      "[19, 18, 28, 33, 32, 31, 46, 37, 37, 60]\n"
     ]
    }
   ],
   "source": [
    "age = []\n",
    "sex = []\n",
    "children = []\n",
    "smoker = []\n",
    "region = []\n",
    "charges = []\n",
    "\n",
    "count = 0\n",
    "\n",
    "with open('insurance.csv') as f:\n",
    "    reader = csv.DictReader(f)\n",
    "    for row in reader:\n",
    "        age.append(int(row['age']))\n",
    "        sex.append(str(row['sex']))\n",
    "        children.append(int(row['children']))\n",
    "        smoker.append(str(row['smoker']))\n",
    "        region.append(str(row['region']))\n",
    "        charges.append(float(row['charges']))\n",
    "\n",
    "    print(age[:10])"
   ]
  },
  {
   "source": [
    "## Build out analysis functions or class methods\n",
    "I will build functions to anwser the questions posed."
   ],
   "cell_type": "markdown",
   "metadata": {}
  },
  {
   "cell_type": "code",
   "execution_count": null,
   "metadata": {},
   "outputs": [],
   "source": []
  }
 ],
 "metadata": {
  "kernelspec": {
   "display_name": "Python 3",
   "language": "python",
   "name": "python3"
  },
  "language_info": {
   "codemirror_mode": {
    "name": "ipython",
    "version": 3
   },
   "file_extension": ".py",
   "mimetype": "text/x-python",
   "name": "python",
   "nbconvert_exporter": "python",
   "pygments_lexer": "ipython3",
   "version": "3.8.7"
  }
 },
 "nbformat": 4,
 "nbformat_minor": 4
}