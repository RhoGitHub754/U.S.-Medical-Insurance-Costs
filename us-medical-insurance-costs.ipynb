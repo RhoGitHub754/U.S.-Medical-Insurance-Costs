{
 "cells": [
  {
   "source": [
    "# U.S. Medical Insurance Costs"
   ],
   "cell_type": "markdown",
   "metadata": {}
  },
  {
   "source": [
    "## Look over your dataset\n",
    "Open insurance.cvs and take a look at the file. Take note of how information is organized. How will this affect how you analyze the data in Python? Is there anything of particular interest to you in the dataset that you want to investigate? Think about these things before you jump into Python."
   ],
   "cell_type": "markdown",
   "metadata": {}
  },
  {
   "cell_type": "code",
   "execution_count": 3,
   "metadata": {},
   "outputs": [
    {
     "output_type": "stream",
     "name": "stdout",
     "text": [
      "age,sex,bmi,children,smoker,region,charges\n\n19,female,27.9,0,yes,southwest,16884.924\n\n18,male,33.77,1,no,southeast,1725.5523\n\n"
     ]
    }
   ],
   "source": [
    "with open('insurance.csv') as f:\n",
    "  print(f.readline())\n",
    "  print(f.readline())\n",
    "  print(f.readline())"
   ]
  },
  {
   "source": [
    "From the output I can see that the data contains a table with the headings age,sex,bmi,children,smoker,region,charges and customers information that falls into these categories.\n",
    "\n",
    "The headings have the data types of:\n",
    "age: int\n",
    "sex: str\n",
    "bmi: float\n",
    "children: int\n",
    "smoker: int\n",
    "region: str\n",
    "charges: float"
   ],
   "cell_type": "markdown",
   "metadata": {}
  },
  {
   "source": [
    "## Import your dataset\n",
    "Import insurance.cvs into your Python file. Make sure that the information is easy to access."
   ],
   "cell_type": "markdown",
   "metadata": {}
  },
  {
   "cell_type": "code",
   "execution_count": 20,
   "metadata": {},
   "outputs": [
    {
     "output_type": "stream",
     "name": "stdout",
     "text": [
      "{'age': '19', 'sex': 'female', 'bmi': '27.9', 'children': '0', 'smoker': 'yes', 'region': 'southwest', 'charges': '16884.924'}\n{'age': '18', 'sex': 'male', 'bmi': '33.77', 'children': '1', 'smoker': 'no', 'region': 'southeast', 'charges': '1725.5523'}\n{'age': '28', 'sex': 'male', 'bmi': '33', 'children': '3', 'smoker': 'no', 'region': 'southeast', 'charges': '4449.462'}\n{'age': '33', 'sex': 'male', 'bmi': '22.705', 'children': '0', 'smoker': 'no', 'region': 'northwest', 'charges': '21984.47061'}\n{'age': '32', 'sex': 'male', 'bmi': '28.88', 'children': '0', 'smoker': 'no', 'region': 'northwest', 'charges': '3866.8552'}\n{'age': '31', 'sex': 'female', 'bmi': '25.74', 'children': '0', 'smoker': 'no', 'region': 'southeast', 'charges': '3756.6216'}\n{'age': '46', 'sex': 'female', 'bmi': '33.44', 'children': '1', 'smoker': 'no', 'region': 'southeast', 'charges': '8240.5896'}\n{'age': '37', 'sex': 'female', 'bmi': '27.74', 'children': '3', 'smoker': 'no', 'region': 'northwest', 'charges': '7281.5056'}\n{'age': '37', 'sex': 'male', 'bmi': '29.83', 'children': '2', 'smoker': 'no', 'region': 'northeast', 'charges': '6406.4107'}\n{'age': '60', 'sex': 'female', 'bmi': '25.84', 'children': '0', 'smoker': 'no', 'region': 'northwest', 'charges': '28923.13692'}\n"
     ]
    }
   ],
   "source": [
    "import csv\n",
    "count = 0\n",
    "with open('insurance.csv') as f:\n",
    "    reader = csv.DictReader(f)\n",
    "    for row in reader:\n",
    "        print(row)\n",
    "        count += 1\n",
    "        if count >= 10:\n",
    "           break"
   ]
  },
  {
   "source": [
    "## Scoping Your Project\n",
    "\n",
    "For this project I will be looking at:\n",
    "\n",
    "1) Average age of the patients in the dataset\n",
    "2) Where the majority of the patients are from\n",
    "3) Costs for smokers vs. non-smokers\n",
    "5) Average age for someone who has at least one child\n"
   ],
   "cell_type": "markdown",
   "metadata": {}
  },
  {
   "source": [
    "## Save your dataset via Python variables\n",
    "\n",
    "I will use lists to store information for all these questions."
   ],
   "cell_type": "markdown",
   "metadata": {}
  },
  {
   "cell_type": "code",
   "execution_count": 18,
   "metadata": {},
   "outputs": [
    {
     "output_type": "stream",
     "name": "stdout",
     "text": [
      "[19, 18, 28, 33, 32, 31, 46, 37, 37, 60]\n"
     ]
    }
   ],
   "source": [
    "age = []\n",
    "sex = []\n",
    "children = []\n",
    "smoker = []\n",
    "region = []\n",
    "charges = []\n",
    "\n",
    "count = 0\n",
    "\n",
    "with open('insurance.csv') as f:\n",
    "    reader = csv.DictReader(f)\n",
    "    for row in reader:\n",
    "        age.append(int(row['age']))\n",
    "        sex.append(str(row['sex']))\n",
    "        children.append(int(row['children']))\n",
    "        smoker.append(str(row['smoker']))\n",
    "        region.append(str(row['region']))\n",
    "        charges.append(float(row['charges']))\n",
    "\n",
    "    print(age[:10])"
   ]
  },
  {
   "source": [
    "I have saved all items within the csv dict to lists that coresspond to all items "
   ],
   "cell_type": "markdown",
   "metadata": {}
  }
 ],
 "metadata": {
  "kernelspec": {
   "display_name": "Python 3",
   "language": "python",
   "name": "python3"
  },
  "language_info": {
   "codemirror_mode": {
    "name": "ipython",
    "version": 3
   },
   "file_extension": ".py",
   "mimetype": "text/x-python",
   "name": "python",
   "nbconvert_exporter": "python",
   "pygments_lexer": "ipython3",
   "version": "3.8.7"
  }
 },
 "nbformat": 4,
 "nbformat_minor": 4
}